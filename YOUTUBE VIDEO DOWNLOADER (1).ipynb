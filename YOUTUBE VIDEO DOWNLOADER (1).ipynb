{
 "cells": [
  {
   "cell_type": "markdown",
   "metadata": {},
   "source": [
    "# PROJECT -3 YOUTUBE VIDEO DOWNLOADER"
   ]
  },
  {
   "cell_type": "code",
   "execution_count": null,
   "metadata": {},
   "outputs": [],
   "source": [
    "# -*- coding: utf-8 -*-\n",
    "\"\"\"\n",
    "Created on Thu Dec 17 12:00:37 2020\n",
    "\n",
    "@author: SHUBHAM\n",
    "\"\"\"\n",
    "\n",
    "from pytube import YouTube\n",
    "from tkinter import *\n",
    "#i can use tk \n",
    "root= Tk()\n",
    "\n",
    "root.geometry(\"550x500\")\n",
    "root.title(\"youtube video downloader\")\n",
    "\n",
    "\n",
    "def youtube():\n",
    "    #here i'm getting my link that i passed in the entry box\n",
    "    ab= var.get()\n",
    "    #using yt some fn and its attributes to download that video that i want to downlolaf from yt.......\n",
    "    yt=YouTube(ab)\n",
    "    #i can set resolution and also speed and size \n",
    "    yt.streams.filter(progressive=True, file_extension='mp4').order_by('resolution').desc().first().download('D:\\python_github')\n",
    "    #if it will done then ye print krega ye msg\n",
    "    print(\"Link box\",ab)\n",
    "\n",
    "l1= Label(root,text= \" Shubham ! Youtube Videos Download \",fg=\"blue\",font=(\"bold\",20)) #label pahla\n",
    "l1.place(x=45,y=65)\n",
    "\n",
    "var = StringVar()\n",
    "link = Entry(root,textvariable=var,width=60)  # type...........\n",
    "link.place(x=90,y=160)\n",
    "\n",
    "shu1= Button(root,text=\" Download\",command=youtube,bg=\"red\",width=30,fg=\"white\")  #press..............\n",
    "shu1.place(x=135,y=205)\n",
    "\n",
    "\n",
    "\n",
    "root.mainloop()"
   ]
  }
 ],
 "metadata": {
  "kernelspec": {
   "display_name": "Python 3",
   "language": "python",
   "name": "python3"
  },
  "language_info": {
   "codemirror_mode": {
    "name": "ipython",
    "version": 3
   },
   "file_extension": ".py",
   "mimetype": "text/x-python",
   "name": "python",
   "nbconvert_exporter": "python",
   "pygments_lexer": "ipython3",
   "version": "3.8.3"
  }
 },
 "nbformat": 4,
 "nbformat_minor": 4
}
