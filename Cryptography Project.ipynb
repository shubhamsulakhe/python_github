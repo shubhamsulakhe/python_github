{
 "cells": [
  {
   "cell_type": "code",
   "execution_count": 3,
   "metadata": {},
   "outputs": [
    {
     "name": "stdout",
     "output_type": "stream",
     "text": [
      "Requirement already satisfied: cryptography in d:\\anaconda\\lib\\site-packages (2.9.2)\n",
      "Requirement already satisfied: cffi!=1.11.3,>=1.8 in d:\\anaconda\\lib\\site-packages (from cryptography) (1.14.0)\n",
      "Requirement already satisfied: six>=1.4.1 in d:\\anaconda\\lib\\site-packages (from cryptography) (1.15.0)\n",
      "Requirement already satisfied: pycparser in d:\\anaconda\\lib\\site-packages (from cffi!=1.11.3,>=1.8->cryptography) (2.20)\n"
     ]
    }
   ],
   "source": [
    "#THis is kind of package we need to install whenever we 're performing Cryptography\n",
    "! pip install cryptography"
   ]
  },
  {
   "cell_type": "code",
   "execution_count": 34,
   "metadata": {},
   "outputs": [],
   "source": [
    "#Here some modules we need to import this in our python file.\n",
    "from cryptography.fernet import Fernet"
   ]
  },
  {
   "cell_type": "code",
   "execution_count": 44,
   "metadata": {},
   "outputs": [],
   "source": [
    "#Firstly we 've to generate password by using fernet and write it anoter file for perform encrypting or decry......\n",
    "def password_key():\n",
    "    pass_key = Fernet.generate_key()\n",
    "    print(pass_key)\n",
    "    print(type(pass_key))\n",
    "    file=open(\"pass.key\",\"wb\")\n",
    "    file.write(pass_key)\n",
    "    file.close()"
   ]
  },
  {
   "cell_type": "code",
   "execution_count": 45,
   "metadata": {},
   "outputs": [
    {
     "name": "stdout",
     "output_type": "stream",
     "text": [
      "b'hDbcfLzgiufk5HDHX_v3WyuGx8-hVMu9e55o0WHjQrg='\n",
      "<class 'bytes'>\n"
     ]
    }
   ],
   "source": [
    "password_key()"
   ]
  },
  {
   "cell_type": "code",
   "execution_count": 53,
   "metadata": {},
   "outputs": [],
   "source": [
    "def My_key():\n",
    "    file1=open(\"pass.key\",\"rb\")\n",
    "    return file1.read()\n",
    "    "
   ]
  },
  {
   "cell_type": "code",
   "execution_count": 54,
   "metadata": {},
   "outputs": [
    {
     "data": {
      "text/plain": [
       "b'hDbcfLzgiufk5HDHX_v3WyuGx8-hVMu9e55o0WHjQrg='"
      ]
     },
     "execution_count": 54,
     "metadata": {},
     "output_type": "execute_result"
    }
   ],
   "source": [
    "My_key()"
   ]
  },
  {
   "cell_type": "code",
   "execution_count": 56,
   "metadata": {},
   "outputs": [],
   "source": [
    "#here ,taking i/p as a normal password by the user \n",
    "def taking_password_ip():\n",
    "    return input(\"Enter the normal line that you want to convert into cipher code\")"
   ]
  },
  {
   "cell_type": "code",
   "execution_count": 57,
   "metadata": {},
   "outputs": [
    {
     "name": "stdout",
     "output_type": "stream",
     "text": [
      "Enter the normal line that you want to convert into cipher codeHey shubham\n"
     ]
    },
    {
     "data": {
      "text/plain": [
       "'Hey shubham'"
      ]
     },
     "execution_count": 57,
     "metadata": {},
     "output_type": "execute_result"
    }
   ],
   "source": [
    "taking_password_ip()"
   ]
  },
  {
   "cell_type": "code",
   "execution_count": 60,
   "metadata": {},
   "outputs": [],
   "source": [
    "#here encrypting  password that taken by the user\n",
    "def Encryption_pass(openpassword):\n",
    "    m_key=My_key()\n",
    "    key=Fernet(m_key)\n",
    "    encrypted_messege=key.encrypt(openpassword)\n",
    "    return encrypted_messege"
   ]
  },
  {
   "cell_type": "code",
   "execution_count": 62,
   "metadata": {},
   "outputs": [
    {
     "data": {
      "text/plain": [
       "b'gAAAAABf18PmTza9usfi0wsVrCaOlVmsXzNK7HbbAXnEJDGHG_IgUBubeYdyXZvJdTkm9HXk8QH4teIxjC-KQ13DGxRUpE1r3Q=='"
      ]
     },
     "execution_count": 62,
     "metadata": {},
     "output_type": "execute_result"
    }
   ],
   "source": [
    "Encryption_pass(b\"Hey Shubham\")"
   ]
  },
  {
   "cell_type": "code",
   "execution_count": 63,
   "metadata": {},
   "outputs": [],
   "source": [
    "#here ,decrypting encrypted password by the help ood decypt function\n",
    "def Decryption_pass(secretpassword):\n",
    "    merikey=My_key()\n",
    "    key1=Fernet(merikey)\n",
    "    decrypted_password=key1.decrypt(secretpassword)\n",
    "    return decrypted_password"
   ]
  },
  {
   "cell_type": "code",
   "execution_count": 64,
   "metadata": {},
   "outputs": [
    {
     "data": {
      "text/plain": [
       "b'Hey Shubham'"
      ]
     },
     "execution_count": 64,
     "metadata": {},
     "output_type": "execute_result"
    }
   ],
   "source": [
    "Decryption_pass(b'gAAAAABf18PmTza9usfi0wsVrCaOlVmsXzNK7HbbAXnEJDGHG_IgUBubeYdyXZvJdTkm9HXk8QH4teIxjC-KQ13DGxRUpE1r3Q==')"
   ]
  },
  {
   "cell_type": "code",
   "execution_count": null,
   "metadata": {},
   "outputs": [],
   "source": [
    "#finally we've completed this whole task Thank you so much!!"
   ]
  }
 ],
 "metadata": {
  "kernelspec": {
   "display_name": "Python 3",
   "language": "python",
   "name": "python3"
  },
  "language_info": {
   "codemirror_mode": {
    "name": "ipython",
    "version": 3
   },
   "file_extension": ".py",
   "mimetype": "text/x-python",
   "name": "python",
   "nbconvert_exporter": "python",
   "pygments_lexer": "ipython3",
   "version": "3.8.3"
  }
 },
 "nbformat": 4,
 "nbformat_minor": 4
}
